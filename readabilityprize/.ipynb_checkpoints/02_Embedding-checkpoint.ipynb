{
 "cells": [
  {
   "cell_type": "code",
   "execution_count": 91,
   "metadata": {},
   "outputs": [],
   "source": [
    "import pandas as pd\n",
    "import numpy as np\n",
    "import matplotlib.pyplot as plt\n",
    "import seaborn as sns"
   ]
  },
  {
   "cell_type": "code",
   "execution_count": 92,
   "metadata": {},
   "outputs": [
    {
     "data": {
      "text/html": [
       "<div>\n",
       "<style scoped>\n",
       "    .dataframe tbody tr th:only-of-type {\n",
       "        vertical-align: middle;\n",
       "    }\n",
       "\n",
       "    .dataframe tbody tr th {\n",
       "        vertical-align: top;\n",
       "    }\n",
       "\n",
       "    .dataframe thead th {\n",
       "        text-align: right;\n",
       "    }\n",
       "</style>\n",
       "<table border=\"1\" class=\"dataframe\">\n",
       "  <thead>\n",
       "    <tr style=\"text-align: right;\">\n",
       "      <th></th>\n",
       "      <th>id</th>\n",
       "      <th>url_legal</th>\n",
       "      <th>license</th>\n",
       "      <th>excerpt</th>\n",
       "      <th>target</th>\n",
       "      <th>standard_error</th>\n",
       "    </tr>\n",
       "  </thead>\n",
       "  <tbody>\n",
       "    <tr>\n",
       "      <td>0</td>\n",
       "      <td>c12129c31</td>\n",
       "      <td>NaN</td>\n",
       "      <td>NaN</td>\n",
       "      <td>When the young people returned to the ballroom...</td>\n",
       "      <td>-0.340259</td>\n",
       "      <td>0.464009</td>\n",
       "    </tr>\n",
       "    <tr>\n",
       "      <td>1</td>\n",
       "      <td>85aa80a4c</td>\n",
       "      <td>NaN</td>\n",
       "      <td>NaN</td>\n",
       "      <td>All through dinner time, Mrs. Fayre was somewh...</td>\n",
       "      <td>-0.315372</td>\n",
       "      <td>0.480805</td>\n",
       "    </tr>\n",
       "    <tr>\n",
       "      <td>2</td>\n",
       "      <td>b69ac6792</td>\n",
       "      <td>NaN</td>\n",
       "      <td>NaN</td>\n",
       "      <td>As Roger had predicted, the snow departed as q...</td>\n",
       "      <td>-0.580118</td>\n",
       "      <td>0.476676</td>\n",
       "    </tr>\n",
       "  </tbody>\n",
       "</table>\n",
       "</div>"
      ],
      "text/plain": [
       "          id url_legal license  \\\n",
       "0  c12129c31       NaN     NaN   \n",
       "1  85aa80a4c       NaN     NaN   \n",
       "2  b69ac6792       NaN     NaN   \n",
       "\n",
       "                                             excerpt    target  standard_error  \n",
       "0  When the young people returned to the ballroom... -0.340259        0.464009  \n",
       "1  All through dinner time, Mrs. Fayre was somewh... -0.315372        0.480805  \n",
       "2  As Roger had predicted, the snow departed as q... -0.580118        0.476676  "
      ]
     },
     "metadata": {},
     "output_type": "display_data"
    },
    {
     "data": {
      "text/plain": [
       "(2834, 6)"
      ]
     },
     "metadata": {},
     "output_type": "display_data"
    }
   ],
   "source": [
    "train = pd.read_csv('./data/train.csv')\n",
    "test = pd.read_csv('./data/test.csv')\n",
    "display(train.head(3))\n",
    "display(train.shape)"
   ]
  },
  {
   "cell_type": "code",
   "execution_count": 152,
   "metadata": {},
   "outputs": [],
   "source": [
    "from sklearn.model_selection import train_test_split\n",
    "\n",
    "from keras.preprocessing.text import Tokenizer\n",
    "from tensorflow.keras.preprocessing.sequence import pad_sequences\n",
    "from tensorflow.keras.layers import Embedding,LSTM,Dense,Bidirectional,\\\n",
    "Dropout,BatchNormalization,Input,Conv1D,MaxPool1D,Flatten\n",
    "from tensorflow.keras.models import Sequential\n",
    "from tensorflow.keras.losses import mse\n",
    "from tensorflow.keras.callbacks import EarlyStopping , ModelCheckpoint\n",
    "\n",
    "\n",
    "from pickle import dump, load\n",
    "\n",
    "class NLP_Embedding():\n",
    "    def __init__(self,train_seri,train_y):\n",
    "        self.train_seri = train_seri\n",
    "        self.train_y = train_y\n",
    "        self.train_texts_list = []\n",
    "        self.tokenizer = Tokenizer()\n",
    "        self.max_length = None\n",
    "        self.vocab_size = None\n",
    "        self.glove_embedding = {}\n",
    "        self.test_size=0.3\n",
    "        \n",
    "    def loadGloves(self):\n",
    "        glove_embedding_file =  \"./glove/glove.6B.300d.txt\"\n",
    "        f = open(glove_embedding_file)\n",
    "        for l in f :\n",
    "            content = l.split()\n",
    "            self.glove_embedding[content[0]] = np.asarray(content[1:])\n",
    "            \n",
    "    def __seriToList(self):\n",
    "        for s in self.train_seri:\n",
    "            self.train_texts_list.append(s)\n",
    "        return self.train_texts_list\n",
    "    \n",
    "    def MakeTokenizer(self):\n",
    "        self.__seriToList()\n",
    "        self.tokenizer.fit_on_texts(self.train_texts_list)\n",
    "        dump(self.tokenizer, open('tokenizer.pkl', 'wb'))\n",
    "        return \n",
    "    \n",
    "    def GetVocabSize(self):\n",
    "        vocab_size = len(self.tokenizer.word_index) \n",
    "        print(\"Vocabulary Size of Texts:　\", self.vocab_size)\n",
    "        return\n",
    "    \n",
    "    def GetMaxLength(self):\n",
    "        \"\"\"\n",
    "        ・訓練用の文の最大単語数を取得する。\n",
    "        \"\"\"\n",
    "        self.max_length = max(len(d.split()) for d in self.train_texts_list)\n",
    "        print(\"Max Length of Texts: \", self.max_length)\n",
    "        return self.max_length\n",
    "    \n",
    "    def makeSequences(self):\n",
    "        vocab_sizextr_seq = tokenizer.texts_to_sequences(self.train_texts_list)##単語を番号に変換\n",
    "        word_index = self.tokenizer.word_index\n",
    "        train_seq = pad_sequences(vocab_sizextr_seq,maxlen=self.max_length,padding=\"post\",truncating=\"post\")##行方向：文書index 列：単語\n",
    "        return train_seq\n",
    "    \n",
    "    def createModel(self):\n",
    "        self.loadGloves()\n",
    "        ###embetting_matrix (縦：vocaburarysize よこ:次元数)\n",
    "        word_index = self.tokenizer.word_index\n",
    "        embedding_matrix = np.zeros((len(word_index)+1,300))\n",
    "        for word,i in word_index.items() :\n",
    "            if self.glove_embedding.get(word) is not None:\n",
    "                embedding_matrix[i,:] = self.glove_embedding.get(word)\n",
    "        ###\n",
    "        embedding_layer = Embedding(len(word_index)+1,300,weights=[embedding_matrix],input_length=\\\n",
    "                           self.max_length,trainable=False)\n",
    "\n",
    "        model = Sequential([embedding_layer,Bidirectional(LSTM(64,return_sequences=True)),\\\n",
    "                   Bidirectional(LSTM(64,)),Dense(1)])\n",
    "        model.compile(loss=\"mse\",optimizer=\"adam\",metrics=\"mse\")\n",
    "        \n",
    "        return model\n",
    "    \n",
    "    def trainModel(self):\n",
    "        self.MakeTokenizer()\n",
    "        self.GetMaxLength()\n",
    "        train_seq = self.makeSequences()\n",
    "        model = self.createModel()\n",
    "        checkpoint_lstm = './lstm/checkpoint'\n",
    "        early_stopping = EarlyStopping(patience=10,min_delta=0.1,monitor=\"val_loss\")\n",
    "        check_point = ModelCheckpoint(checkpoint_lstm,monitor=\"val_loss\",save_weights_only=True,\\\n",
    "                             save_best_only=True,mode=\"min\")\n",
    "        ###学習7割 検証3割\n",
    "        xtr_seq,xts_seq,ytr,yts = train_test_split(train_seq,self.train_y,test_size=self.test_size)\n",
    "        his=model.fit(xtr_seq,ytr,validation_data=(xts_seq,yts),epochs=100,batch_size=32,\\\n",
    "          callbacks=[check_point])"
   ]
  },
  {
   "cell_type": "code",
   "execution_count": null,
   "metadata": {},
   "outputs": [
    {
     "name": "stdout",
     "output_type": "stream",
     "text": [
      "Max Length of Texts:  205\n",
      "Epoch 1/100\n",
      "62/62 [==============================] - 30s 351ms/step - loss: 1.1102 - mse: 1.1102 - val_loss: 0.6095 - val_mse: 0.6095\n",
      "Epoch 2/100\n",
      "62/62 [==============================] - 20s 322ms/step - loss: 0.5054 - mse: 0.5054 - val_loss: 0.5533 - val_mse: 0.5533\n",
      "Epoch 3/100\n",
      "62/62 [==============================] - 20s 331ms/step - loss: 0.4358 - mse: 0.4358 - val_loss: 0.5905 - val_mse: 0.5905\n",
      "Epoch 4/100\n",
      "62/62 [==============================] - 20s 329ms/step - loss: 0.3646 - mse: 0.3646 - val_loss: 0.6615 - val_mse: 0.6615\n",
      "Epoch 5/100\n",
      "62/62 [==============================] - 19s 310ms/step - loss: 0.3942 - mse: 0.3942 - val_loss: 0.4973 - val_mse: 0.4973\n",
      "Epoch 6/100\n",
      "62/62 [==============================] - 20s 331ms/step - loss: 0.2702 - mse: 0.2702 - val_loss: 0.5031 - val_mse: 0.5031\n",
      "Epoch 7/100\n",
      "62/62 [==============================] - 19s 308ms/step - loss: 0.2138 - mse: 0.2138 - val_loss: 0.5613 - val_mse: 0.5613\n",
      "Epoch 8/100\n",
      "62/62 [==============================] - 19s 313ms/step - loss: 0.1839 - mse: 0.1839 - val_loss: 0.5310 - val_mse: 0.5310\n",
      "Epoch 9/100\n",
      "62/62 [==============================] - 19s 306ms/step - loss: 0.1368 - mse: 0.1368 - val_loss: 0.5299 - val_mse: 0.5299\n",
      "Epoch 10/100\n",
      "62/62 [==============================] - 19s 310ms/step - loss: 0.1003 - mse: 0.1003 - val_loss: 0.5493 - val_mse: 0.5493\n",
      "Epoch 11/100\n",
      "62/62 [==============================] - 19s 308ms/step - loss: 0.0701 - mse: 0.0701 - val_loss: 0.5918 - val_mse: 0.5918\n",
      "Epoch 12/100\n",
      "62/62 [==============================] - 20s 316ms/step - loss: 0.0582 - mse: 0.0582 - val_loss: 0.5696 - val_mse: 0.5696\n",
      "Epoch 13/100\n",
      "62/62 [==============================] - 19s 315ms/step - loss: 0.0314 - mse: 0.0314 - val_loss: 0.5642 - val_mse: 0.5642\n",
      "Epoch 14/100\n",
      "62/62 [==============================] - 18s 297ms/step - loss: 0.0208 - mse: 0.0208 - val_loss: 0.5805 - val_mse: 0.5805\n",
      "Epoch 15/100\n",
      "62/62 [==============================] - 21s 338ms/step - loss: 0.0165 - mse: 0.0165 - val_loss: 0.5809 - val_mse: 0.5809\n",
      "Epoch 16/100\n",
      "62/62 [==============================] - 20s 324ms/step - loss: 0.0129 - mse: 0.0129 - val_loss: 0.5674 - val_mse: 0.5674\n",
      "Epoch 17/100\n",
      "62/62 [==============================] - 18s 293ms/step - loss: 0.0067 - mse: 0.0067 - val_loss: 0.5618 - val_mse: 0.5618\n",
      "Epoch 18/100\n",
      "62/62 [==============================] - 18s 288ms/step - loss: 0.0063 - mse: 0.0063 - val_loss: 0.5647 - val_mse: 0.5647\n",
      "Epoch 19/100\n",
      "62/62 [==============================] - 18s 288ms/step - loss: 0.0049 - mse: 0.0049 - val_loss: 0.5631 - val_mse: 0.5631\n",
      "Epoch 20/100\n",
      "62/62 [==============================] - 17s 280ms/step - loss: 0.0055 - mse: 0.0055 - val_loss: 0.5740 - val_mse: 0.5740\n",
      "Epoch 21/100\n",
      "62/62 [==============================] - 17s 279ms/step - loss: 0.0043 - mse: 0.0043 - val_loss: 0.5699 - val_mse: 0.5699\n",
      "Epoch 22/100\n",
      "62/62 [==============================] - 17s 281ms/step - loss: 0.0027 - mse: 0.0027 - val_loss: 0.5715 - val_mse: 0.5715\n",
      "Epoch 23/100\n",
      "62/62 [==============================] - 17s 283ms/step - loss: 0.0029 - mse: 0.0029 - val_loss: 0.5684 - val_mse: 0.5684\n",
      "Epoch 24/100\n",
      "62/62 [==============================] - 17s 279ms/step - loss: 0.0024 - mse: 0.0024 - val_loss: 0.5676 - val_mse: 0.5676\n",
      "Epoch 25/100\n",
      "62/62 [==============================] - 18s 284ms/step - loss: 0.0034 - mse: 0.0034 - val_loss: 0.5665 - val_mse: 0.5665\n",
      "Epoch 26/100\n",
      "62/62 [==============================] - 18s 298ms/step - loss: 0.0044 - mse: 0.0044 - val_loss: 0.5679 - val_mse: 0.5679\n",
      "Epoch 27/100\n",
      "19/62 [========>.....................] - ETA: 10s - loss: 0.0048 - mse: 0.0048"
     ]
    }
   ],
   "source": [
    "seri = train['excerpt']\n",
    "y = train['target']\n",
    "ins = NLP_Embedding(train_seri=seri,train_y = y)\n",
    "ins.trainModel()"
   ]
  },
  {
   "cell_type": "code",
   "execution_count": 123,
   "metadata": {},
   "outputs": [],
   "source": [
    "checkpoint_lstm = './lstm/checkpoint'\n",
    "early_stopping = EarlyStopping(patience=10,min_delta=0.1,monitor=\"val_loss\")\n",
    "check_point = ModelCheckpoint(checkpoint_lstm,monitor=\"val_loss\",save_weights_only=True,\\\n",
    "                             save_best_only=True,mode=\"min\")"
   ]
  },
  {
   "cell_type": "code",
   "execution_count": null,
   "metadata": {},
   "outputs": [],
   "source": []
  }
 ],
 "metadata": {
  "environment": {
   "name": "common-cpu.m50",
   "type": "gcloud",
   "uri": "gcr.io/deeplearning-platform-release/base-cpu:m50"
  },
  "kernelspec": {
   "display_name": "Python 3",
   "language": "python",
   "name": "python3"
  },
  "language_info": {
   "codemirror_mode": {
    "name": "ipython",
    "version": 3
   },
   "file_extension": ".py",
   "mimetype": "text/x-python",
   "name": "python",
   "nbconvert_exporter": "python",
   "pygments_lexer": "ipython3",
   "version": "3.7.6"
  },
  "widgets": {
   "application/vnd.jupyter.widget-state+json": {
    "state": {
     "087d3cff73f246db9b036a774d1a85a1": {
      "model_module": "@jupyter-widgets/base",
      "model_module_version": "1.2.0",
      "model_name": "LayoutModel",
      "state": {}
     },
     "13d64b5147464b8aba7af5af414cc03f": {
      "model_module": "@jupyter-widgets/base",
      "model_module_version": "1.2.0",
      "model_name": "LayoutModel",
      "state": {}
     },
     "1530d80deb0d4c0ba8dd4c709402bbbb": {
      "model_module": "@jupyter-widgets/controls",
      "model_module_version": "1.5.0",
      "model_name": "DescriptionStyleModel",
      "state": {
       "description_width": ""
      }
     },
     "1c2fb83c614149cc938821f2dd62688b": {
      "model_module": "@jupyter-widgets/controls",
      "model_module_version": "1.5.0",
      "model_name": "ProgressStyleModel",
      "state": {
       "description_width": "initial"
      }
     },
     "20cfe3910df645b5a04b6b8652536619": {
      "model_module": "@jupyter-widgets/controls",
      "model_module_version": "1.5.0",
      "model_name": "FloatProgressModel",
      "state": {
       "bar_style": "success",
       "description": "Downloading: 100%",
       "layout": "IPY_MODEL_b29b2d5139d542cfb1bd551729ec64a6",
       "max": 28,
       "style": "IPY_MODEL_97b9d902d63244f498d2063cabf35aaf",
       "value": 28
      }
     },
     "2b1119b4c34f4b748f7c57584c0b8a1a": {
      "model_module": "@jupyter-widgets/base",
      "model_module_version": "1.2.0",
      "model_name": "LayoutModel",
      "state": {}
     },
     "3475b8c2d3754f1b93eda47441974fa5": {
      "model_module": "@jupyter-widgets/controls",
      "model_module_version": "1.5.0",
      "model_name": "FloatProgressModel",
      "state": {
       "bar_style": "success",
       "description": "Downloading: 100%",
       "layout": "IPY_MODEL_9d00961279fe4cba8832719c21756667",
       "max": 570,
       "style": "IPY_MODEL_f1353307863a4821bfa20f550616128c",
       "value": 570
      }
     },
     "37d95d6f473e48059a085ae5723035d5": {
      "model_module": "@jupyter-widgets/controls",
      "model_module_version": "1.5.0",
      "model_name": "HBoxModel",
      "state": {
       "children": [
        "IPY_MODEL_3b768bbda0184ed1a141b69d126834d0",
        "IPY_MODEL_a16ad8b865c64f24b6ae9560c7315bfd"
       ],
       "layout": "IPY_MODEL_b987ea6f2bf9426a920ada86e40c5c17"
      }
     },
     "3b768bbda0184ed1a141b69d126834d0": {
      "model_module": "@jupyter-widgets/controls",
      "model_module_version": "1.5.0",
      "model_name": "FloatProgressModel",
      "state": {
       "bar_style": "success",
       "description": "Downloading: 100%",
       "layout": "IPY_MODEL_7df94b97b3b045ed8a21f942dff63275",
       "max": 231508,
       "style": "IPY_MODEL_1c2fb83c614149cc938821f2dd62688b",
       "value": 231508
      }
     },
     "3c8f3cda707243c4980bd80061cf31b6": {
      "model_module": "@jupyter-widgets/base",
      "model_module_version": "1.2.0",
      "model_name": "LayoutModel",
      "state": {}
     },
     "48301cea79f14fd0b120f0deb61fa8eb": {
      "model_module": "@jupyter-widgets/controls",
      "model_module_version": "1.5.0",
      "model_name": "FloatProgressModel",
      "state": {
       "bar_style": "success",
       "description": "Downloading: 100%",
       "layout": "IPY_MODEL_087d3cff73f246db9b036a774d1a85a1",
       "max": 466062,
       "style": "IPY_MODEL_cfc3a6386679490f8b9d11ff8a084aa3",
       "value": 466062
      }
     },
     "615f2eb3ee844c098f243c377b73e223": {
      "model_module": "@jupyter-widgets/base",
      "model_module_version": "1.2.0",
      "model_name": "LayoutModel",
      "state": {}
     },
     "66f9583c5a934499899da7dead8b4da0": {
      "model_module": "@jupyter-widgets/base",
      "model_module_version": "1.2.0",
      "model_name": "LayoutModel",
      "state": {}
     },
     "69417be67b2a45bebc49b67e5e58b1b0": {
      "model_module": "@jupyter-widgets/controls",
      "model_module_version": "1.5.0",
      "model_name": "HBoxModel",
      "state": {
       "children": [
        "IPY_MODEL_3475b8c2d3754f1b93eda47441974fa5",
        "IPY_MODEL_a5d5853f329a4234bb09ec6091a51190"
       ],
       "layout": "IPY_MODEL_a787cc7de3074ceb8e99bfd71fc01783"
      }
     },
     "7839e50678c24b67acc6f1d0fe8bd418": {
      "model_module": "@jupyter-widgets/controls",
      "model_module_version": "1.5.0",
      "model_name": "DescriptionStyleModel",
      "state": {
       "description_width": ""
      }
     },
     "7a7f327f633e4af386494ac2373d988b": {
      "model_module": "@jupyter-widgets/controls",
      "model_module_version": "1.5.0",
      "model_name": "HBoxModel",
      "state": {
       "children": [
        "IPY_MODEL_20cfe3910df645b5a04b6b8652536619",
        "IPY_MODEL_8d4e76265e0e471a83bed27b0958d903"
       ],
       "layout": "IPY_MODEL_615f2eb3ee844c098f243c377b73e223"
      }
     },
     "7df94b97b3b045ed8a21f942dff63275": {
      "model_module": "@jupyter-widgets/base",
      "model_module_version": "1.2.0",
      "model_name": "LayoutModel",
      "state": {}
     },
     "81bc84e4aad6413cb8797249c31cfdf1": {
      "model_module": "@jupyter-widgets/controls",
      "model_module_version": "1.5.0",
      "model_name": "DescriptionStyleModel",
      "state": {
       "description_width": ""
      }
     },
     "8d4e76265e0e471a83bed27b0958d903": {
      "model_module": "@jupyter-widgets/controls",
      "model_module_version": "1.5.0",
      "model_name": "HTMLModel",
      "state": {
       "layout": "IPY_MODEL_2b1119b4c34f4b748f7c57584c0b8a1a",
       "style": "IPY_MODEL_1530d80deb0d4c0ba8dd4c709402bbbb",
       "value": " 28.0/28.0 [00:00&lt;00:00, 70.1B/s]"
      }
     },
     "92e114849fa24229a0399bfb9e24ccf6": {
      "model_module": "@jupyter-widgets/base",
      "model_module_version": "1.2.0",
      "model_name": "LayoutModel",
      "state": {}
     },
     "9613301fa6d7482197eb9dbbe65543eb": {
      "model_module": "@jupyter-widgets/controls",
      "model_module_version": "1.5.0",
      "model_name": "HTMLModel",
      "state": {
       "layout": "IPY_MODEL_ccaae625024c4e9ea2b893c9da0a71bf",
       "style": "IPY_MODEL_bb97d82bd32148548f40ec5b3fee2c8e",
       "value": " 440M/440M [00:08&lt;00:00, 52.0MB/s]"
      }
     },
     "97b9d902d63244f498d2063cabf35aaf": {
      "model_module": "@jupyter-widgets/controls",
      "model_module_version": "1.5.0",
      "model_name": "ProgressStyleModel",
      "state": {
       "description_width": "initial"
      }
     },
     "9885f47a13954f3ebcd1a141c883d1e5": {
      "model_module": "@jupyter-widgets/base",
      "model_module_version": "1.2.0",
      "model_name": "LayoutModel",
      "state": {}
     },
     "9d00961279fe4cba8832719c21756667": {
      "model_module": "@jupyter-widgets/base",
      "model_module_version": "1.2.0",
      "model_name": "LayoutModel",
      "state": {}
     },
     "a16ad8b865c64f24b6ae9560c7315bfd": {
      "model_module": "@jupyter-widgets/controls",
      "model_module_version": "1.5.0",
      "model_name": "HTMLModel",
      "state": {
       "layout": "IPY_MODEL_66f9583c5a934499899da7dead8b4da0",
       "style": "IPY_MODEL_f94aa5b6ec57416b99dbabd1e8551552",
       "value": " 232k/232k [00:01&lt;00:00, 178kB/s]"
      }
     },
     "a16ada0edaab42fa81413730f7dad4db": {
      "model_module": "@jupyter-widgets/controls",
      "model_module_version": "1.5.0",
      "model_name": "ProgressStyleModel",
      "state": {
       "description_width": "initial"
      }
     },
     "a5d5853f329a4234bb09ec6091a51190": {
      "model_module": "@jupyter-widgets/controls",
      "model_module_version": "1.5.0",
      "model_name": "HTMLModel",
      "state": {
       "layout": "IPY_MODEL_13d64b5147464b8aba7af5af414cc03f",
       "style": "IPY_MODEL_7839e50678c24b67acc6f1d0fe8bd418",
       "value": " 570/570 [00:00&lt;00:00, 2.67kB/s]"
      }
     },
     "a787cc7de3074ceb8e99bfd71fc01783": {
      "model_module": "@jupyter-widgets/base",
      "model_module_version": "1.2.0",
      "model_name": "LayoutModel",
      "state": {}
     },
     "b29b2d5139d542cfb1bd551729ec64a6": {
      "model_module": "@jupyter-widgets/base",
      "model_module_version": "1.2.0",
      "model_name": "LayoutModel",
      "state": {}
     },
     "b864252b22c74745a5a19cb48582b73a": {
      "model_module": "@jupyter-widgets/controls",
      "model_module_version": "1.5.0",
      "model_name": "FloatProgressModel",
      "state": {
       "bar_style": "success",
       "description": "Downloading: 100%",
       "layout": "IPY_MODEL_bc1ee5bfc28944ff8c37a5d8b2d0a847",
       "max": 440473133,
       "style": "IPY_MODEL_a16ada0edaab42fa81413730f7dad4db",
       "value": 440473133
      }
     },
     "b987ea6f2bf9426a920ada86e40c5c17": {
      "model_module": "@jupyter-widgets/base",
      "model_module_version": "1.2.0",
      "model_name": "LayoutModel",
      "state": {}
     },
     "bb97d82bd32148548f40ec5b3fee2c8e": {
      "model_module": "@jupyter-widgets/controls",
      "model_module_version": "1.5.0",
      "model_name": "DescriptionStyleModel",
      "state": {
       "description_width": ""
      }
     },
     "bc1ee5bfc28944ff8c37a5d8b2d0a847": {
      "model_module": "@jupyter-widgets/base",
      "model_module_version": "1.2.0",
      "model_name": "LayoutModel",
      "state": {}
     },
     "c187434078ff424eac25b7ed1dfa222b": {
      "model_module": "@jupyter-widgets/controls",
      "model_module_version": "1.5.0",
      "model_name": "HBoxModel",
      "state": {
       "children": [
        "IPY_MODEL_b864252b22c74745a5a19cb48582b73a",
        "IPY_MODEL_9613301fa6d7482197eb9dbbe65543eb"
       ],
       "layout": "IPY_MODEL_92e114849fa24229a0399bfb9e24ccf6"
      }
     },
     "ccaae625024c4e9ea2b893c9da0a71bf": {
      "model_module": "@jupyter-widgets/base",
      "model_module_version": "1.2.0",
      "model_name": "LayoutModel",
      "state": {}
     },
     "cfc3a6386679490f8b9d11ff8a084aa3": {
      "model_module": "@jupyter-widgets/controls",
      "model_module_version": "1.5.0",
      "model_name": "ProgressStyleModel",
      "state": {
       "description_width": "initial"
      }
     },
     "d57a96f6f38c4fde9cb0e56b2f4c7ed3": {
      "model_module": "@jupyter-widgets/controls",
      "model_module_version": "1.5.0",
      "model_name": "HBoxModel",
      "state": {
       "children": [
        "IPY_MODEL_48301cea79f14fd0b120f0deb61fa8eb",
        "IPY_MODEL_f53465c9f13e416f9259ce119772f31b"
       ],
       "layout": "IPY_MODEL_3c8f3cda707243c4980bd80061cf31b6"
      }
     },
     "f1353307863a4821bfa20f550616128c": {
      "model_module": "@jupyter-widgets/controls",
      "model_module_version": "1.5.0",
      "model_name": "ProgressStyleModel",
      "state": {
       "description_width": "initial"
      }
     },
     "f53465c9f13e416f9259ce119772f31b": {
      "model_module": "@jupyter-widgets/controls",
      "model_module_version": "1.5.0",
      "model_name": "HTMLModel",
      "state": {
       "layout": "IPY_MODEL_9885f47a13954f3ebcd1a141c883d1e5",
       "style": "IPY_MODEL_81bc84e4aad6413cb8797249c31cfdf1",
       "value": " 466k/466k [00:00&lt;00:00, 3.95MB/s]"
      }
     },
     "f94aa5b6ec57416b99dbabd1e8551552": {
      "model_module": "@jupyter-widgets/controls",
      "model_module_version": "1.5.0",
      "model_name": "DescriptionStyleModel",
      "state": {
       "description_width": ""
      }
     }
    },
    "version_major": 2,
    "version_minor": 0
   }
  }
 },
 "nbformat": 4,
 "nbformat_minor": 4
}
